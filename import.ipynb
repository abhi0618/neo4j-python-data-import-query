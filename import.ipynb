{
 "cells": [
  {
   "cell_type": "code",
   "execution_count": 2,
   "metadata": {},
   "outputs": [
    {
     "ename": "SyntaxError",
     "evalue": "invalid syntax. Perhaps you forgot a comma? (502582597.py, line 1)",
     "output_type": "error",
     "traceback": [
      "\u001b[1;36m  Input \u001b[1;32mIn [2]\u001b[1;36m\u001b[0m\n\u001b[1;33m    pip3 install xxhash\u001b[0m\n\u001b[1;37m         ^\u001b[0m\n\u001b[1;31mSyntaxError\u001b[0m\u001b[1;31m:\u001b[0m invalid syntax. Perhaps you forgot a comma?\n"
     ]
    }
   ],
   "source": []
  },
  {
   "cell_type": "code",
   "execution_count": 4,
   "metadata": {},
   "outputs": [
    {
     "ename": "ModuleNotFoundError",
     "evalue": "No module named 'xxhash'",
     "output_type": "error",
     "traceback": [
      "\u001b[1;31m---------------------------------------------------------------------------\u001b[0m",
      "\u001b[1;31mModuleNotFoundError\u001b[0m                       Traceback (most recent call last)",
      "\u001b[1;32mc:\\Users\\Abhi0618\\Downloads\\THESIS\\neo4j-python-data-import\\import.ipynb Cell 2'\u001b[0m in \u001b[0;36m<cell line: 1>\u001b[1;34m()\u001b[0m\n\u001b[1;32m----> <a href='vscode-notebook-cell:/c%3A/Users/Abhi0618/Downloads/THESIS/neo4j-python-data-import/import.ipynb#ch0000000?line=0'>1</a>\u001b[0m \u001b[39mimport\u001b[39;00m \u001b[39mxxhash\u001b[39;00m\n",
      "\u001b[1;31mModuleNotFoundError\u001b[0m: No module named 'xxhash'"
     ]
    }
   ],
   "source": [
    "import xxhash"
   ]
  },
  {
   "cell_type": "code",
   "execution_count": null,
   "metadata": {},
   "outputs": [],
   "source": [
    "import pandas as pd\n",
    "dfs = pd.read_excel('data.xlsx',sheet_name=\"Sheet1\")"
   ]
  },
  {
   "cell_type": "code",
   "execution_count": null,
   "metadata": {},
   "outputs": [],
   "source": [
    "from neo4j import GraphDatabase\n",
    "\n",
    "uri = \"neo4j://localhost:7687\"\n",
    "driver = GraphDatabase.driver(uri)"
   ]
  },
  {
   "cell_type": "code",
   "execution_count": null,
   "metadata": {},
   "outputs": [],
   "source": [
    "def create_authors(tx, authors):\n",
    "    for name in  authors.split(','):\n",
    "        tx.run(\"MERGE(:author {name: $name})\",\n",
    "            name=name)"
   ]
  },
  {
   "cell_type": "code",
   "execution_count": null,
   "metadata": {},
   "outputs": [],
   "source": [
    "def create_keywords(tx, keywords):\n",
    "    for keyword in  keywords.split(';'):\n",
    "        tx.run(\"MERGE(:keyword {name: $name})\",\n",
    "            name=keyword)"
   ]
  },
  {
   "cell_type": "code",
   "execution_count": null,
   "metadata": {},
   "outputs": [],
   "source": [
    "def create_journal(tx, name):\n",
    "    tx.run(\"MERGE(:journal {name: $name})\",\n",
    "            name=name)"
   ]
  },
  {
   "cell_type": "code",
   "execution_count": null,
   "metadata": {},
   "outputs": [],
   "source": [
    "def create_paper(tx,id, title,year,doi,link,abstract):\n",
    "    tx.run(\"\"\"\n",
    "        MERGE(p:paper{id:$id})\n",
    "                ON CREATE\n",
    "                set  p.id=$id,\n",
    "                p.title=$title,\n",
    "                p.year=$year,\n",
    "                    p.doi=$doi,\n",
    "                    p.link=$link,\n",
    "                    p.abstract=$abstract  \n",
    "                ON MATCH \n",
    "                set  \n",
    "                p.title=$title,\n",
    "                p.year=$year,\n",
    "                    p.doi=$doi,\n",
    "                    p.link=$link,\n",
    "                    p.abstract=$abstract\n",
    "                    RETURN p\n",
    "    \"\"\",\n",
    "        id=id,title=title,year=year,doi=doi,link=link,abstract=abstract)"
   ]
  },
  {
   "cell_type": "code",
   "execution_count": null,
   "metadata": {},
   "outputs": [],
   "source": [
    "def create_references(tx,id, reference):\n",
    "    tx.run(\"\"\"\n",
    "        MERGE(p:referencePaper{id:$id})\n",
    "                ON CREATE\n",
    "                set  p.id=$id,\n",
    "                        p.title=$reference\n",
    "                ON MATCH \n",
    "                set  \n",
    "                   p.title=$reference\n",
    "                RETURN p\n",
    "    \"\"\",\n",
    "        id=id,reference=reference)"
   ]
  },
  {
   "cell_type": "code",
   "execution_count": null,
   "metadata": {},
   "outputs": [],
   "source": [
    "def create_paper_to_auther_relation(tx,id, authors):\n",
    "     for author in  authors.split(','):\n",
    "        tx.run(\"\"\"MATCH(p:paper {id: $id})\n",
    "                        MATCH(a:author{name:$author})\n",
    "                        MERGE  (p)<-[:Written]-(a)  \n",
    "                    \"\"\",id=id,author=author)"
   ]
  },
  {
   "cell_type": "code",
   "execution_count": null,
   "metadata": {},
   "outputs": [],
   "source": [
    "def create_paper_to_keyword_relation(tx,id, keywords):\n",
    "     for keyword in  keywords.split(';'):\n",
    "        tx.run(\"\"\"MATCH(p:paper {id: $id})\n",
    "                        MATCH(k:keyword{name:$keyword})\n",
    "                        MERGE  (p)<-[:Auther_Keyword]-(k)  \n",
    "                    \"\"\",id=id,keyword=keyword)"
   ]
  },
  {
   "cell_type": "code",
   "execution_count": null,
   "metadata": {},
   "outputs": [],
   "source": [
    "def create_paper_to_published_relation(tx,id, journal):\n",
    "    tx.run(\"\"\"MATCH(p:paper {id: $id})\n",
    "                    MATCH(j:journal{name:$journal})\n",
    "                    MERGE  (p)-[:Published_in]->(j)  \n",
    "                \"\"\",id=id,journal=journal)"
   ]
  },
  {
   "cell_type": "code",
   "execution_count": null,
   "metadata": {},
   "outputs": [],
   "source": [
    "\n",
    "def create_paper_to_reference_paper_relation(tx,id, id_references):\n",
    "    tx.run(\"\"\"MATCH(p:paper {id: $id})\n",
    "                    MATCH(rp:referencePaper{id:$id_references})\n",
    "                    MERGE  (p)<-[:Reference_Paper]-(rp)  \n",
    "                \"\"\",id=id,id_references=id_references)"
   ]
  },
  {
   "cell_type": "code",
   "execution_count": null,
   "metadata": {},
   "outputs": [],
   "source": [
    "with driver.session() as session:\n",
    "    for indices, row in dfs.iterrows():\n",
    "        authors =row[\"Authors\"]\n",
    "        title =str(row[\"Title\"])\n",
    "        year =row[\"Year\"]\n",
    "        doi =row[\"DOI\"]\n",
    "        cited_by =row[\"Cited by\"]\n",
    "        source_title =row[\"Source title\"]\n",
    "        link =row[\"Link\"]\n",
    "        abstract =row[\"Abstract\"]\n",
    "        author_keywords=str( row[\"Author Keywords\"])  if row[\"Author Keywords\"] is not None else \"\" \n",
    "        references=str(row[\"References\"])\n",
    "        id=xxhash.xxh64(title).hexdigest()\n",
    "        id_references=xxhash.xxh64(references).hexdigest()\n",
    "        # Nodes\n",
    "        session.write_transaction(create_authors, authors)\n",
    "        session.write_transaction(create_journal, source_title)\n",
    "        session.write_transaction(create_keywords, author_keywords)\n",
    "        session.write_transaction(create_paper, id,title,year,doi,link,abstract)\n",
    "        session.write_transaction(create_references, id_references,references)\n",
    "\n",
    "        # Relations\n",
    "        session.write_transaction(create_paper_to_auther_relation, id,authors)\n",
    "        session.write_transaction(create_paper_to_keyword_relation, id,author_keywords)\n",
    "        session.write_transaction(create_paper_to_published_relation, id,source_title)\n",
    "        session.write_transaction(create_paper_to_reference_paper_relation, id,id_references)\n",
    "        \n",
    "        \n",
    "driver.close()"
   ]
  }
 ],
 "metadata": {
  "interpreter": {
   "hash": "916dbcbb3f70747c44a77c7bcd40155683ae19c65e1c03b4aa3499c5328201f1"
  },
  "kernelspec": {
   "display_name": "Python 3.8.10 64-bit",
   "language": "python",
   "name": "python3"
  },
  "language_info": {
   "codemirror_mode": {
    "name": "ipython",
    "version": 3
   },
   "file_extension": ".py",
   "mimetype": "text/x-python",
   "name": "python",
   "nbconvert_exporter": "python",
   "pygments_lexer": "ipython3",
   "version": "3.10.0"
  },
  "orig_nbformat": 4
 },
 "nbformat": 4,
 "nbformat_minor": 2
}
